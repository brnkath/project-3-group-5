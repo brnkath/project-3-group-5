{
 "cells": [
  {
   "cell_type": "code",
   "execution_count": 1,
   "metadata": {},
   "outputs": [],
   "source": [
    "import json\n",
    "import pandas as pd"
   ]
  },
  {
   "cell_type": "code",
   "execution_count": 2,
   "metadata": {},
   "outputs": [],
   "source": [
    "# Read CSV data\n",
    "csv_data = pd.read_csv('resources/miami_info.csv')"
   ]
  },
  {
   "cell_type": "code",
   "execution_count": null,
   "metadata": {},
   "outputs": [],
   "source": [
    "# Read GeoJSON data\n",
    "with open('resources/fl_florida_zip_codes_geo.min.json', 'r') as file:\n",
    "    geojson_data = json.load(file)"
   ]
  },
  {
   "cell_type": "code",
   "execution_count": null,
   "metadata": {},
   "outputs": [],
   "source": [
    "# Create a dictionary from CSV data for easy lookup\n",
    "zipcode_income_dict = dict(zip(csv_data['Zipcode'].astype(str), csv_data['Median_income']))"
   ]
  },
  {
   "cell_type": "code",
   "execution_count": null,
   "metadata": {},
   "outputs": [],
   "source": [
    "# Update GeoJSON data\n",
    "filtered_features = []\n",
    "for feature in geojson_data['features']:\n",
    "    zipcode = feature['properties']['ZCTA5CE10']\n",
    "    if zipcode in zipcode_income_dict:\n",
    "        # Update feature with Median_income information\n",
    "        feature['properties']['median_income'] = zipcode_income_dict[zipcode]\n",
    "        # Ensure correct polygon order\n",
    "        if feature['geometry']['type'] == 'Polygon':\n",
    "            feature['geometry']['coordinates'] = [list(reversed(ring)) for ring in feature['geometry']['coordinates']]\n",
    "        elif feature['geometry']['type'] == 'MultiPolygon':\n",
    "            feature['geometry']['coordinates'] = [[list(reversed(ring)) for ring in polygon] for polygon in feature['geometry']['coordinates']]\n",
    "        filtered_features.append(feature)\n"
   ]
  },
  {
   "cell_type": "code",
   "execution_count": null,
   "metadata": {},
   "outputs": [],
   "source": [
    "# Create a new GeoJSON object with filtered features\n",
    "filtered_geojson_data = {\n",
    "    \"type\": \"FeatureCollection\",\n",
    "    \"features\": filtered_features\n",
    "}\n"
   ]
  },
  {
   "cell_type": "code",
   "execution_count": null,
   "metadata": {},
   "outputs": [],
   "source": [
    "# Save the filtered GeoJSON data to a new file\n",
    "with open('resources/filtered_zipcodes.geojson', 'w') as outfile:\n",
    "    json.dump(filtered_geojson_data, outfile)"
   ]
  },
  {
   "cell_type": "code",
   "execution_count": null,
   "metadata": {},
   "outputs": [],
   "source": []
  },
  {
   "cell_type": "code",
   "execution_count": null,
   "metadata": {},
   "outputs": [],
   "source": []
  }
 ],
 "metadata": {
  "kernelspec": {
   "display_name": "dev",
   "language": "python",
   "name": "python3"
  },
  "language_info": {
   "codemirror_mode": {
    "name": "ipython",
    "version": 3
   },
   "file_extension": ".py",
   "mimetype": "text/x-python",
   "name": "python",
   "nbconvert_exporter": "python",
   "pygments_lexer": "ipython3",
   "version": "3.10.12"
  }
 },
 "nbformat": 4,
 "nbformat_minor": 2
}
