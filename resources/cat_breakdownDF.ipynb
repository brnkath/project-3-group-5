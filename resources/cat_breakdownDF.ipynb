{
 "cells": [
  {
   "cell_type": "code",
   "execution_count": 1,
   "id": "3dd72efa",
   "metadata": {},
   "outputs": [],
   "source": [
    "# Dependencies\n",
    "import pandas as pd\n",
    "import plotly"
   ]
  },
  {
   "cell_type": "code",
   "execution_count": 2,
   "id": "8e863b9d",
   "metadata": {},
   "outputs": [],
   "source": [
    "# Read the map_locations.csv file into a DataFrame\n",
    "df = pd.read_csv('map_locations.csv')"
   ]
  },
  {
   "cell_type": "code",
   "execution_count": 3,
   "id": "8e8e7bde",
   "metadata": {},
   "outputs": [],
   "source": [
    "# Count the occurrences of the specified entries in 'properties.categories'\n",
    "count_restaurant = df['properties.categories'].str.count('catering.restaurant').sum()\n",
    "count_fast_food = df['properties.categories'].str.count('catering.fast_food').sum()\n",
    "count_supermarket = df['properties.categories'].str.count('commercial.supermarket').sum()"
   ]
  },
  {
   "cell_type": "code",
   "execution_count": 4,
   "id": "be8777b3",
   "metadata": {},
   "outputs": [
    {
     "name": "stdout",
     "output_type": "stream",
     "text": [
      "Count of catering.restaurant: 233\n",
      "Count of catering.fast_food: 88\n",
      "Count of commercial.supermarket: 14\n"
     ]
    }
   ],
   "source": [
    "# Print the specified entry categories\n",
    "print(f'Count of catering.restaurant: {count_restaurant}')\n",
    "print(f'Count of catering.fast_food: {count_fast_food}')\n",
    "print(f'Count of commercial.supermarket: {count_supermarket}')"
   ]
  },
  {
   "cell_type": "code",
   "execution_count": 5,
   "id": "b7ecf689",
   "metadata": {},
   "outputs": [],
   "source": [
    "# Create a new DataFrame for Plotly\n",
    "plotly_data = pd.DataFrame({\n",
    "    'Category': ['catering.restaurant', 'catering.fast_food', 'commercial.supermarket'],\n",
    "    'Count': [count_restaurant, count_fast_food, count_supermarket]\n",
    "})\n"
   ]
  },
  {
   "cell_type": "code",
   "execution_count": 6,
   "id": "ee3aa27c",
   "metadata": {},
   "outputs": [],
   "source": [
    "# Save the Plotly DataFrame to a new CSV file\n",
    "plotly_data.to_csv('cat_breakdown.csv', index=False)"
   ]
  },
  {
   "cell_type": "code",
   "execution_count": null,
   "id": "8b7df2c7",
   "metadata": {},
   "outputs": [],
   "source": []
  }
 ],
 "metadata": {
  "kernelspec": {
   "display_name": "Python 3 (ipykernel)",
   "language": "python",
   "name": "python3"
  },
  "language_info": {
   "codemirror_mode": {
    "name": "ipython",
    "version": 3
   },
   "file_extension": ".py",
   "mimetype": "text/x-python",
   "name": "python",
   "nbconvert_exporter": "python",
   "pygments_lexer": "ipython3",
   "version": "3.10.12"
  }
 },
 "nbformat": 4,
 "nbformat_minor": 5
}
